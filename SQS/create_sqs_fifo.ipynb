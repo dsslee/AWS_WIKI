{
 "cells": [
  {
   "cell_type": "markdown",
   "id": "b50e6f7d-86f4-408e-b5c2-2c5ce283e26a",
   "metadata": {},
   "source": [
    "# Installation"
   ]
  },
  {
   "cell_type": "code",
   "execution_count": 1,
   "id": "5379bee0-a1e7-4400-823a-4682bd0c2cf0",
   "metadata": {
    "tags": []
   },
   "outputs": [],
   "source": [
    "# !pip install boto3"
   ]
  },
  {
   "cell_type": "markdown",
   "id": "adfe3753-f0da-450e-b48b-ed28b3bcf143",
   "metadata": {},
   "source": [
    "# Create SQS FIFO Resource"
   ]
  },
  {
   "cell_type": "code",
   "execution_count": 2,
   "id": "0d5f3a3e-fc39-4c31-8c06-8f4608c3c7c5",
   "metadata": {
    "tags": []
   },
   "outputs": [],
   "source": [
    "# Initialize SQS Client\n",
    "import boto3\n",
    "sqs_client = boto3.client('sqs', region_name='us-east-1') #Replace with your AWS region"
   ]
  },
  {
   "cell_type": "code",
   "execution_count": 3,
   "id": "edd8c2f6-930e-4c2c-baec-4a6eaa29f64d",
   "metadata": {
    "tags": []
   },
   "outputs": [
    {
     "name": "stdout",
     "output_type": "stream",
     "text": [
      "Queue will be made with the name: sharon_test.fifo\n"
     ]
    }
   ],
   "source": [
    "# Define Queue Attributes\n",
    "username = 'sharon'\n",
    "# queue_name = f'{username}-{hash_key}.fifo' # FIFO queue names must end with '.fifo'\n",
    "queue_name = f'{username}.fifo'\n",
    "print(f\"Queue will be made with the name: {queue_name}\")\n",
    "\n",
    "attributes = {\n",
    "    'FifoQueue': 'true',                    # Indicates that the queue is a FIFO queue\n",
    "    'ContentBasedDeduplication': 'true'     # Enables content-based deduplication\n",
    "}"
   ]
  },
  {
   "cell_type": "code",
   "execution_count": 4,
   "id": "e6b51041-7006-497a-9386-a5963600dccf",
   "metadata": {
    "tags": []
   },
   "outputs": [
    {
     "name": "stdout",
     "output_type": "stream",
     "text": [
      "FIFO queue created successfully with URL: https://sqs.us-east-1.amazonaws.com/160243126421/sharon_test.fifo\n"
     ]
    }
   ],
   "source": [
    "# create FIFO queue\n",
    "response = sqs_client.create_queue(\n",
    "    QueueName=queue_name,\n",
    "    Attributes=attributes\n",
    ")\n",
    "\n",
    "# get url of newly created FIFO queue\n",
    "queue_url = response['QueueUrl']\n",
    "print(\"FIFO queue created successfully with URL:\", queue_url)"
   ]
  },
  {
   "cell_type": "code",
   "execution_count": null,
   "id": "3fa28de6-271d-43dd-b5a2-d6f5856582c9",
   "metadata": {},
   "outputs": [],
   "source": []
  },
  {
   "cell_type": "markdown",
   "id": "aceb2aed-6d7f-4939-bea5-2c09cc560318",
   "metadata": {},
   "source": [
    "# Making function to include all attributes"
   ]
  },
  {
   "cell_type": "code",
   "execution_count": 1,
   "id": "db51f07b-99fe-49d9-8d31-fbda7f607856",
   "metadata": {
    "tags": []
   },
   "outputs": [],
   "source": [
    "def create_fifo_queue(queue_name, fifo_queue=True, content_based_deduplication=True,\n",
    "                      message_retention_period=None, visibility_timeout=None,\n",
    "                      kms_master_key_id=None, **kwargs):\n",
    "    \"\"\"\n",
    "    Create a FIFO queue in Amazon SQS with customizable attributes.\n",
    "\n",
    "    Args:\n",
    "    - queue_name: Name of the FIFO queue to be created (must end with '.fifo').\n",
    "    - region_name: AWS region where the queue will be created.\n",
    "    - fifo_queue: Indicates whether the queue is a FIFO queue (default: True).\n",
    "    - content_based_deduplication: Enables content-based deduplication (default: True).\n",
    "    - message_retention_period: Message retention period in seconds (optional).\n",
    "    - visibility_timeout: Visibility timeout in seconds (optional).\n",
    "    - kms_master_key_id: The ID of the KMS master key used for SSE (optional).\n",
    "    - **kwargs: Additional custom attributes for the FIFO queue.\n",
    "\n",
    "    Returns:\n",
    "    - queue_url: URL of the newly created FIFO queue, or None if queue already exists.\n",
    "    \"\"\"\n",
    "\n",
    "    # Check if the queue already exists\n",
    "    try:\n",
    "        response = sqs_client.get_queue_url(QueueName=queue_name)\n",
    "        queue_url = response['QueueUrl']\n",
    "        print(\"Queue '{}' already exists.\".format(queue_name))\n",
    "        return None\n",
    "\n",
    "    except sqs_client.exceptions.QueueDoesNotExist:\n",
    "        pass  # Queue doesn't exist, proceed with creation\n",
    "\n",
    "    # Define default attributes for FIFO queue\n",
    "    attributes = {\n",
    "        'FifoQueue': str(fifo_queue).lower(),\n",
    "        'ContentBasedDeduplication': str(content_based_deduplication).lower()\n",
    "    }\n",
    "\n",
    "    # Add optional attributes if provided\n",
    "    if message_retention_period is not None:\n",
    "        attributes['MessageRetentionPeriod'] = str(message_retention_period)\n",
    "    if visibility_timeout is not None:\n",
    "        attributes['VisibilityTimeout'] = str(visibility_timeout)\n",
    "    if kms_master_key_id is not None:\n",
    "        attributes['KmsMasterKeyId'] = str(kms_master_key_id)\n",
    "\n",
    "    # Add any additional custom attributes\n",
    "    attributes.update(kwargs)\n",
    "\n",
    "    # Create the FIFO queue\n",
    "    response = sqs_client.create_queue(\n",
    "        QueueName=queue_name,\n",
    "        Attributes=attributes\n",
    "    )\n",
    "\n",
    "    # Get the URL of the newly created FIFO queue\n",
    "    queue_url = response['QueueUrl']\n",
    "\n",
    "    return queue_url"
   ]
  },
  {
   "cell_type": "code",
   "execution_count": 2,
   "id": "8e6f2d4e-6d72-4221-b9e1-fe2d6f985b51",
   "metadata": {
    "tags": []
   },
   "outputs": [
    {
     "name": "stdout",
     "output_type": "stream",
     "text": [
      "FIFO queue created successfully with URL: https://sqs.us-east-1.amazonaws.com/160243126421/sharon.fifo\n"
     ]
    }
   ],
   "source": [
    "# EXAMPLE USAGE\n",
    "\n",
    "# initialize SQS client\n",
    "import boto3\n",
    "region_name = 'us-east-1' # Replace with your AWS region\n",
    "sqs_client = boto3.client('sqs', region_name=region_name)\n",
    "\n",
    "queue_name = 'sharon.fifo'\n",
    "message_retention_period = 86400  # 1 day message retention period\n",
    "visibility_timeout = 30  # 30 seconds visibility timeout\n",
    "kms_master_key_id = 'your-kms-master-key-id'  # Replace with your KMS master key ID\n",
    "\n",
    "# Create FIFO queue with custom attributes\n",
    "queue_url = create_fifo_queue(queue_name, \n",
    "                              message_retention_period=message_retention_period,\n",
    "                              visibility_timeout=visibility_timeout,\n",
    "                              kms_master_key_id=kms_master_key_id)\n",
    "if queue_url:\n",
    "    print(\"FIFO queue created successfully with URL:\", queue_url)\n",
    "else:\n",
    "    print(\"Failed to create FIFO queue.\")\n"
   ]
  },
  {
   "cell_type": "code",
   "execution_count": 5,
   "id": "bfbe76ea-5f85-4f59-977c-cab3e727aa7e",
   "metadata": {
    "tags": []
   },
   "outputs": [
    {
     "name": "stdout",
     "output_type": "stream",
     "text": [
      "Queue 'sharon.fifo' already exists.\n",
      "Failed to create FIFO queue.\n"
     ]
    }
   ],
   "source": [
    "# if I try to create fifo with same name:\n",
    "queue_url = create_fifo_queue(queue_name, \n",
    "                              message_retention_period=message_retention_period,\n",
    "                              visibility_timeout=visibility_timeout,\n",
    "                              kms_master_key_id=kms_master_key_id)\n",
    "if queue_url:\n",
    "    print(\"FIFO queue created successfully with URL:\", queue_url)\n",
    "else:\n",
    "    print(\"Failed to create FIFO queue.\")"
   ]
  },
  {
   "cell_type": "code",
   "execution_count": null,
   "id": "7d6845a6-4756-4a20-87a5-bdfae015262b",
   "metadata": {},
   "outputs": [],
   "source": []
  }
 ],
 "metadata": {
  "kernelspec": {
   "display_name": "conda_tabular310",
   "language": "python",
   "name": "conda_tabular310"
  },
  "language_info": {
   "codemirror_mode": {
    "name": "ipython",
    "version": 3
   },
   "file_extension": ".py",
   "mimetype": "text/x-python",
   "name": "python",
   "nbconvert_exporter": "python",
   "pygments_lexer": "ipython3",
   "version": "3.10.10"
  }
 },
 "nbformat": 4,
 "nbformat_minor": 5
}
