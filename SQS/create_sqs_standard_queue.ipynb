{
 "cells": [
  {
   "cell_type": "markdown",
   "id": "fa372080-5d84-483e-85a3-248177b602a0",
   "metadata": {},
   "source": [
    "# Installation"
   ]
  },
  {
   "cell_type": "code",
   "execution_count": 1,
   "id": "9efcf1c6-f418-4388-bf48-90b8a27d17a1",
   "metadata": {
    "tags": []
   },
   "outputs": [],
   "source": [
    "# !pip install boto3"
   ]
  },
  {
   "cell_type": "markdown",
   "id": "14731f72-3b79-4bb9-b62f-277aa9bc5eb6",
   "metadata": {},
   "source": [
    "# Create SQS Standard Resource"
   ]
  },
  {
   "cell_type": "code",
   "execution_count": 2,
   "id": "6f67e899-c1ae-40fa-8fcf-9bd5cbc30303",
   "metadata": {
    "tags": []
   },
   "outputs": [],
   "source": [
    "# initialize sqs client\n",
    "import boto3\n",
    "sqs_client = boto3.client('sqs', region_name='us-east-1')"
   ]
  },
  {
   "cell_type": "code",
   "execution_count": 3,
   "id": "ca6dd625-5c6f-415f-9b9a-1a27a8790ef0",
   "metadata": {
    "tags": []
   },
   "outputs": [
    {
     "name": "stdout",
     "output_type": "stream",
     "text": [
      "Queue will be made with the name: dsslee-std-queue\n"
     ]
    }
   ],
   "source": [
    "# Define Standard Queue Attributes\n",
    "queue_name = 'dsslee-std-queue'\n",
    "print(f\"Queue will be made with the name: {queue_name}\")\n",
    "\n",
    "attributes = {\n",
    "    'DelaySeconds': '0',                # No delay for message processing (default: 0)\n",
    "    'MaximumMessageSize': '262144',     # Maximum message size (default: 262144 -> 256 KB)\n",
    "    'MessageRetentionPeriod': '345600', # Message retention period (default: 345600s -> 4days)\n",
    "    'ReceiveMessageWaitTimeSeconds': '0', # Wait up to n seconds for messages to be available (default: 0)\n",
    "}"
   ]
  },
  {
   "cell_type": "code",
   "execution_count": 4,
   "id": "34ff4d87-5f13-4ba6-9050-e6e1273c246c",
   "metadata": {
    "tags": []
   },
   "outputs": [
    {
     "name": "stdout",
     "output_type": "stream",
     "text": [
      "Standard queue created successfully with URL: https://sqs.us-east-1.amazonaws.com/160243126421/dsslee-std-queue\n"
     ]
    }
   ],
   "source": [
    "# create Standard queue\n",
    "response = sqs_client.create_queue(\n",
    "    QueueName = queue_name,\n",
    "    Attributes = attributes\n",
    ")\n",
    "\n",
    "# get url of newly created Standard queue\n",
    "queue_url = response['QueueUrl']\n",
    "print(\"Standard queue created successfully with URL:\", queue_url)"
   ]
  },
  {
   "cell_type": "code",
   "execution_count": null,
   "id": "d5bdeb43-6674-4f0a-b10b-69a315c402aa",
   "metadata": {},
   "outputs": [],
   "source": []
  },
  {
   "cell_type": "markdown",
   "id": "f95fc253-e1a8-4e0f-9bd5-a3840725177a",
   "metadata": {},
   "source": [
    "# Making function to include all standard attributes"
   ]
  },
  {
   "cell_type": "code",
   "execution_count": 1,
   "id": "e7290f52-4c97-47c0-87fc-61ed0ad8f873",
   "metadata": {
    "tags": []
   },
   "outputs": [],
   "source": [
    "def create_standard_queue(queue_name, message_retention_period=None, visibility_timeout=None,\n",
    "                          maximum_message_size=None, receive_message_wait_time=None,\n",
    "                          redrive_policy=None, **kwargs):\n",
    "    \"\"\"\n",
    "    Create a standard queue in Amazon SQS with customizable attributes.\n",
    "\n",
    "    Args:\n",
    "    - queue_name: Name of the standard queue to be created.\n",
    "    - message_retention_period: Message retention period in seconds (optional).\n",
    "    - visibility_timeout: Visibility timeout in seconds (optional).\n",
    "    - maximum_message_size: Maximum message size in bytes (optional).\n",
    "    - receive_message_wait_time: Receive message wait time in seconds (optional).\n",
    "    - redrive_policy: Redrive policy for handling failed messages (optional).\n",
    "    - **kwargs: Additional custom attributes for the standard queue.\n",
    "\n",
    "    Returns:\n",
    "    - queue_url: URL of the newly created standard queue, or None if queue already exists.\n",
    "    \"\"\"\n",
    "\n",
    "    # Initialize SQS client\n",
    "    sqs_client = boto3.client('sqs')\n",
    "\n",
    "    try:\n",
    "        # Check if the queue already exists\n",
    "        response = sqs_client.get_queue_url(QueueName=queue_name)\n",
    "        queue_url = response['QueueUrl']\n",
    "        print(f\"Queue '{queue_name}' already exists.\")\n",
    "        return None\n",
    "\n",
    "    except ClientError as e:\n",
    "        if e.response['Error']['Code'] != 'AWS.SimpleQueueService.NonExistentQueue':\n",
    "            raise\n",
    "\n",
    "    # Define default attributes for standard queue\n",
    "    attributes = {}\n",
    "\n",
    "    # Add optional attributes if provided\n",
    "    optional_attributes = {\n",
    "        'MessageRetentionPeriod': message_retention_period,\n",
    "        'VisibilityTimeout': visibility_timeout,\n",
    "        'MaximumMessageSize': maximum_message_size,\n",
    "        'ReceiveMessageWaitTimeSeconds': receive_message_wait_time,\n",
    "        'RedrivePolicy': redrive_policy\n",
    "    }\n",
    "\n",
    "    for attr_name, attr_value in optional_attributes.items():\n",
    "        if attr_value is not None:\n",
    "            attributes[attr_name] = str(attr_value)\n",
    "\n",
    "    # Add any additional custom attributes\n",
    "    attributes.update(kwargs)\n",
    "\n",
    "    # Create the standard queue\n",
    "    response = sqs_client.create_queue(\n",
    "        QueueName=queue_name,\n",
    "        Attributes=attributes\n",
    "    )\n",
    "\n",
    "    # Get the URL of the newly created standard queue\n",
    "    queue_url = response['QueueUrl']\n",
    "\n",
    "    return queue_url"
   ]
  },
  {
   "cell_type": "code",
   "execution_count": 2,
   "id": "c5e2e6ca-4552-458d-9b97-6a1810df47f2",
   "metadata": {
    "tags": []
   },
   "outputs": [
    {
     "name": "stdout",
     "output_type": "stream",
     "text": [
      "Standard queue created successfully with URL: https://sqs.us-east-1.amazonaws.com/160243126421/dsslee-standard-queue\n"
     ]
    }
   ],
   "source": [
    "# EXAMPLE USAGE\n",
    "\n",
    "# initialize SQS client\n",
    "import boto3\n",
    "from botocore.exceptions import ClientError\n",
    "\n",
    "region_name = 'us-east-1' # Replace with your AWS region\n",
    "sqs_client = boto3.client('sqs', region_name=region_name)\n",
    "\n",
    "# Example usage:\n",
    "# Example usage:\n",
    "queue_name = 'dsslee-standard-queue'\n",
    "message_retention_period = 86400  # 1 day message retention period\n",
    "visibility_timeout = 30  # 30 seconds visibility timeout\n",
    "maximum_message_size = 262144  # Maximum message size of 256 KB\n",
    "receive_message_wait_time = 20  # 20 seconds receive message wait time\n",
    "\n",
    "# Create standard queue with custom attributes\n",
    "queue_url = create_standard_queue(queue_name,\n",
    "                                  message_retention_period=message_retention_period,\n",
    "                                  visibility_timeout=visibility_timeout,\n",
    "                                  maximum_message_size=maximum_message_size,\n",
    "                                  receive_message_wait_time=receive_message_wait_time,\n",
    "                                  )\n",
    "\n",
    "if queue_url:\n",
    "    print(\"Standard queue created successfully with URL:\", queue_url)\n",
    "else:\n",
    "    print(\"Failed to create standard queue.\")\n",
    "\n"
   ]
  },
  {
   "cell_type": "code",
   "execution_count": 3,
   "id": "f032f5d9-ab6d-4eb1-85ad-e18add7b86d2",
   "metadata": {
    "tags": []
   },
   "outputs": [
    {
     "name": "stdout",
     "output_type": "stream",
     "text": [
      "Queue 'dsslee-standard-queue' already exists.\n",
      "Failed to create standard queue.\n"
     ]
    }
   ],
   "source": [
    "# Trying to create standard queue with same name:\n",
    "queue_url = create_standard_queue(queue_name,\n",
    "                                  message_retention_period=message_retention_period,\n",
    "                                  visibility_timeout=visibility_timeout,\n",
    "                                  maximum_message_size=maximum_message_size,\n",
    "                                  receive_message_wait_time=receive_message_wait_time,\n",
    "                                  )\n",
    "\n",
    "if queue_url:\n",
    "    print(\"Standard queue created successfully with URL:\", queue_url)\n",
    "else:\n",
    "    print(\"Failed to create standard queue.\")"
   ]
  },
  {
   "cell_type": "code",
   "execution_count": null,
   "id": "d962ea0a-e7b7-46e6-8652-672af8779def",
   "metadata": {},
   "outputs": [],
   "source": []
  }
 ],
 "metadata": {
  "kernelspec": {
   "display_name": "conda_tabular310",
   "language": "python",
   "name": "conda_tabular310"
  },
  "language_info": {
   "codemirror_mode": {
    "name": "ipython",
    "version": 3
   },
   "file_extension": ".py",
   "mimetype": "text/x-python",
   "name": "python",
   "nbconvert_exporter": "python",
   "pygments_lexer": "ipython3",
   "version": "3.10.10"
  }
 },
 "nbformat": 4,
 "nbformat_minor": 5
}
